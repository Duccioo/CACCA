{
 "cells": [
  {
   "cell_type": "code",
   "execution_count": 50,
   "id": "c9e7bacc",
   "metadata": {},
   "outputs": [
    {
     "data": {
      "image/png": "[encoded data removed]",
      "text/plain": [
       "<Figure size 640x480 with 1 Axes>"
      ]
     },
     "metadata": {},
     "output_type": "display_data"
    },
    {
     "name": "stdout",
     "output_type": "stream",
     "text": [
      "lowest test at epoch 35 with loss 0.39949986046077285\n"
     ]
    }
   ],
   "source": [
    "import matplotlib.pyplot as plt, json\n",
    "import pathlib\n",
    "\n",
    "json_file = \"../saved_models/model_preCondRNN_v4.2/losses.json\"\n",
    "pathlib.Path(json_file).parent.mkdir(parents=True, exist_ok=True)\n",
    "\n",
    "log = json.load(open(json_file))\n",
    "\n",
    "train_losses = [l[\"ce_train\"] for l in log]\n",
    "test_losses = [l[\"ce_test\"] for l in log]\n",
    "\n",
    "plt.plot(train_losses, label='train')\n",
    "plt.plot(test_losses,  label='test')\n",
    "plt.yscale('log'); plt.legend(); plt.show()\n",
    "\n",
    "print(f\"lowest test at epoch {test_losses.index(min(test_losses))} with loss {min(test_losses)}\")\n"
   ]
  },
  {
   "cell_type": "markdown",
   "id": "a3c509c8",
   "metadata": {},
   "source": [
    "## Loading Best model"
   ]
  },
  {
   "cell_type": "code",
   "execution_count": 36,
   "id": "61379937",
   "metadata": {},
   "outputs": [
    {
     "name": "stdout",
     "output_type": "stream",
     "text": [
      "Loading vocabulary from ../saved_models/model_preCondRNN_v4.2/vocab.pkl …\n"
     ]
    },
    {
     "data": {
      "text/plain": [
       "ConditionalAutoencoder(\n",
       "  (embedding): Embedding(36, 256)\n",
       "  (encoder_rnn): LSTM(261, 512, num_layers=3, batch_first=True, dropout=0.1, bidirectional=True)\n",
       "  (to_latent): Sequential(\n",
       "    (0): Linear(in_features=1024, out_features=512, bias=True)\n",
       "    (1): GELU(approximate='none')\n",
       "    (2): Linear(in_features=512, out_features=200, bias=True)\n",
       "  )\n",
       "  (latent_to_decoder_hidden): Linear(in_features=200, out_features=1536, bias=True)\n",
       "  (decoder_rnn): LSTM(256, 512, num_layers=3, batch_first=True, dropout=0.1)\n",
       "  (output_to_vocab): Linear(in_features=512, out_features=36, bias=True)\n",
       "  (property_predictor): Sequential(\n",
       "    (0): Linear(in_features=200, out_features=256, bias=True)\n",
       "    (1): LayerNorm((256,), eps=1e-05, elementwise_affine=True)\n",
       "    (2): GELU(approximate='none')\n",
       "    (3): Dropout(p=0.1, inplace=False)\n",
       "    (4): Linear(in_features=256, out_features=5, bias=True)\n",
       "  )\n",
       ")"
      ]
     },
     "execution_count": 36,
     "metadata": {},
     "output_type": "execute_result"
    }
   ],
   "source": [
    "from visualize_latent_space import load_model_from_folder\n",
    "import torch\n",
    "\n",
    "folder = \"../saved_models/model_preCondRNN_v4.2\"\n",
    "model, vocab, train_args = load_model_from_folder(folder)\n",
    "device = torch.device(\"cuda\" if torch.cuda.is_available() else \"cpu\")\n",
    "model.to(device)\n",
    "model.eval()"
   ]
  },
  {
   "cell_type": "markdown",
   "id": "6f1dc6e5",
   "metadata": {},
   "source": [
    "## Loading test_loader"
   ]
  },
  {
   "cell_type": "code",
   "execution_count": 37,
   "id": "dcb468b0",
   "metadata": {},
   "outputs": [
    {
     "name": "stdout",
     "output_type": "stream",
     "text": [
      "📖  Caricamento dati da: smiles_preprocessed_scale-zscore.csv\n",
      "    -> Trovate 500004 molecole valide.\n",
      "    -> Creato vocabolario con 36 caratteri.\n"
     ]
    }
   ],
   "source": [
    "from torch.utils.data import DataLoader\n",
    "from sklearn.model_selection import train_test_split\n",
    "import os\n",
    "\n",
    "# ---\n",
    "from utils.data_utils import load_preprocessed_data, SmilesDataset\n",
    "\n",
    "\n",
    "prop_file = os.path.join(\"..\", train_args.prop_file)\n",
    "max_seq_length = train_args.max_seq_length\n",
    "training_percent = train_args.training_percent\n",
    "batch_size = train_args.batch_size\n",
    "seed = train_args.seed\n",
    "\n",
    "\n",
    "# --- Load data from SMILES+properties file ---\n",
    "processed_data = load_preprocessed_data(prop_file, max_seq_length=max_seq_length)\n",
    "pytorch_dataset = SmilesDataset(processed_data)\n",
    "\n",
    "\n",
    "\n",
    "# split the dataset into train and test sets\n",
    "num_total = len(pytorch_dataset)\n",
    "num_train = int(num_total * training_percent)\n",
    "\n",
    "train_dataset, test_dataset = train_test_split(\n",
    "    pytorch_dataset, train_size=num_train, shuffle=True, random_state=seed\n",
    ")\n",
    "\n",
    "# Create DataLoaders\n",
    "train_loader = DataLoader(train_dataset, batch_size=batch_size, shuffle=True, num_workers=4, pin_memory=True, persistent_workers=True)\n",
    "test_loader = DataLoader(test_dataset, batch_size=batch_size, shuffle=False, num_workers=4, pin_memory=True, persistent_workers=True)\n"
   ]
  },
  {
   "cell_type": "code",
   "execution_count": 38,
   "id": "46e7e98d",
   "metadata": {},
   "outputs": [
    {
     "name": "stdout",
     "output_type": "stream",
     "text": [
      "R2 per colonna: [0.9981755  0.9977068  0.99896985 0.9956312  0.99669164]\n"
     ]
    }
   ],
   "source": [
    "from sklearn.metrics import r2_score\n",
    "Z, y_true, y_pred = [], [], []\n",
    "for data in test_loader:\n",
    "    with torch.no_grad():\n",
    "        z, _, c_hat = model(data[\"input\"].to(device),\n",
    "                            data[\"properties\"].to(device),\n",
    "                            data[\"length\"].to(device))\n",
    "    y_true.append(data[\"properties\"])\n",
    "    y_pred.append(c_hat.cpu())\n",
    "y_true = torch.cat(y_true).numpy()\n",
    "y_pred = torch.cat(y_pred).numpy()\n",
    "print(\"R2 per colonna:\", r2_score(y_true, y_pred, multioutput='raw_values'))"
   ]
  },
  {
   "cell_type": "code",
   "execution_count": 39,
   "id": "1400455b",
   "metadata": {},
   "outputs": [
    {
     "name": "stdout",
     "output_type": "stream",
     "text": [
      "[INFO] Loaded scaling metrics from ../dataset/ZINC_with_drugs/smiles_preprocessed_scale-zscore_scaling_metrics.json\n",
      "[INFO] Encoded 32 molecules → latent_dim=200\n"
     ]
    }
   ],
   "source": [
    "# load mol from mol_test.csv\n",
    "from pathlib import Path\n",
    "import json\n",
    "# ---\n",
    "from visualize_latent_space import load_smiles_from_csv, smiles_dict_to_tensor\n",
    "\n",
    "molecules_df = load_smiles_from_csv(\"../assets/mol_test.csv\")\n",
    "x, c, l, logp_vals, valid_smiles, names, paper_vals = smiles_dict_to_tensor(molecules_df, vocab, train_args.max_seq_length)\n",
    "x, c, l = x.to(device), c.to(device), l.to(device)\n",
    "smiles_scale_file = \"../dataset/ZINC_with_drugs/smiles_preprocessed_scale-zscore_scaling_metrics.json\"\n",
    "\n",
    "    # load dataset scale metric from json file\n",
    "scale_file = Path(smiles_scale_file)\n",
    "if scale_file.exists():\n",
    "    with open(scale_file) as f:\n",
    "        scale_data = json.load(f)\n",
    "        print(f\"[INFO] Loaded scaling metrics from {scale_file.as_posix()}\")\n",
    "        if scale_data[\"Scaling method\"] == \"zscore\":\n",
    "            scale_metrics = scale_data['Scale metrics']\n",
    "            mean = torch.tensor(scale_metrics[0], device=device, dtype=torch.float32)\n",
    "            std = torch.tensor(scale_metrics[1], device=device, dtype=torch.float32)\n",
    "            c = (c - mean) / std\n",
    "            \n",
    "with torch.no_grad():\n",
    "    latent = model(x, c, l)[0].cpu().numpy()\n",
    "    print(f\"[INFO] Encoded {latent.shape[0]} molecules → latent_dim={latent.shape[1]}\")\n",
    "    "
   ]
  },
  {
   "cell_type": "code",
   "execution_count": 42,
   "id": "bfdae7df",
   "metadata": {},
   "outputs": [
    {
     "data": {
      "image/png": "[encoded data removed]",
      "text/plain": [
       "<Figure size 640x480 with 1 Axes>"
      ]
     },
     "metadata": {},
     "output_type": "display_data"
    }
   ],
   "source": [
    "import umap, matplotlib.pyplot as plt\n",
    "Z = latent      # (N, d)\n",
    "labels = paper_vals \n",
    "Z2 = umap.UMAP(metric='cosine').fit_transform(Z)\n",
    "plt.scatter(Z2[:,0], Z2[:,1], c=labels, s=10, cmap='coolwarm')\n",
    "plt.title('UMAP degli embedding')\n",
    "plt.show()"
   ]
  },
  {
   "cell_type": "code",
   "execution_count": 43,
   "id": "7676ffa4",
   "metadata": {},
   "outputs": [
    {
     "data": {
      "image/png": "[encoded data removed]",
      "text/plain": [
       "<Figure size 1200x500 with 2 Axes>"
      ]
     },
     "metadata": {},
     "output_type": "display_data"
    }
   ],
   "source": [
    "from sklearn.decomposition import PCA\n",
    "from sklearn.manifold import TSNE\n",
    "import umap\n",
    "import matplotlib.pyplot as plt\n",
    "\n",
    "\n",
    "labels = [1 if \"POLY\" in name else 0 for name in names]\n",
    "Z_pca = PCA(n_components=3).fit_transform(Z)\n",
    "Z_umap = umap.UMAP(n_components=2, metric='cosine').fit_transform(Z)\n",
    "\n",
    "fig, ax = plt.subplots(1, 2, figsize=(12,5))\n",
    "ax[0].scatter(Z_pca[:,0], Z_pca[:,1], c=labels, s=10, cmap='coolwarm')\n",
    "ax[0].set_title('PCA – prime 2 componenti')\n",
    "\n",
    "ax[1].scatter(Z_umap[:,0], Z_umap[:,1], c=labels, s=10, cmap='coolwarm')\n",
    "ax[1].set_title('UMAP 2D')\n",
    "plt.show()"
   ]
  },
  {
   "cell_type": "code",
   "execution_count": 9,
   "id": "72ac2f09",
   "metadata": {},
   "outputs": [
    {
     "name": "stdout",
     "output_type": "stream",
     "text": [
      "logP    1.000000\n",
      "z42     0.488810\n",
      "z125    0.469683\n",
      "z18     0.430627\n",
      "z51     0.427086\n",
      "z174    0.424781\n",
      "z95     0.411214\n",
      "z2      0.402896\n",
      "z45     0.396140\n",
      "z107    0.394211\n",
      "Name: logP, dtype: float64\n"
     ]
    }
   ],
   "source": [
    "# Correlazione dimensione-proprietà\n",
    "\n",
    "import pandas as pd\n",
    "import seaborn as sns\n",
    "\n",
    "df = pd.DataFrame(Z, columns=[f'z{i}' for i in range(Z.shape[1])])\n",
    "df['logP'] = logp_vals         # proprietà note\n",
    "corr = df.corr()['logP'].abs().sort_values(ascending=False)[:10]\n",
    "print(corr)\n",
    "\n",
    "# Dimensioni con |ρ| alto mostrano disentanglement; puoi regolare β-VAE o FiLM se vedi che l’informazione si disperde."
   ]
  },
  {
   "cell_type": "code",
   "execution_count": 10,
   "id": "70996cca",
   "metadata": {},
   "outputs": [
    {
     "name": "stdout",
     "output_type": "stream",
     "text": [
      "{'_': 0, 'X': 1, 'E': 2, '#': 3, '(': 4, ')': 5, '+': 6, '-': 7, '/': 8, '1': 9, '2': 10, '3': 11, '4': 12, '5': 13, '6': 14, '7': 15, '=': 16, '@': 17, 'B': 18, 'C': 19, 'F': 20, 'H': 21, 'I': 22, 'N': 23, 'O': 24, 'P': 25, 'S': 26, '[': 27, '\\\\': 28, ']': 29, 'c': 30, 'l': 31, 'n': 32, 'o': 33, 'r': 34, 's': 35}\n"
     ]
    },
    {
     "ename": "AttributeError",
     "evalue": "'str' object has no attribute 'to'",
     "output_type": "error",
     "traceback": [
      "\u001b[31m---------------------------------------------------------------------------\u001b[39m",
      "\u001b[31mAttributeError\u001b[39m                            Traceback (most recent call last)",
      "\u001b[36mCell\u001b[39m\u001b[36m \u001b[39m\u001b[32mIn[10]\u001b[39m\u001b[32m, line 27\u001b[39m\n\u001b[32m     25\u001b[39m z = torch.randn(\u001b[32m1\u001b[39m, model.latent_size).to(device)\n\u001b[32m     26\u001b[39m c = torch.zeros(\u001b[32m1\u001b[39m, model.num_prop).to(device)       \n\u001b[32m---> \u001b[39m\u001b[32m27\u001b[39m toks = \u001b[43mmodel\u001b[49m\u001b[43m.\u001b[49m\u001b[43msample\u001b[49m\u001b[43m(\u001b[49m\u001b[43mz\u001b[49m\u001b[43m,\u001b[49m\u001b[43m \u001b[49m\u001b[43mc\u001b[49m\u001b[43m,\u001b[49m\u001b[43m \u001b[49m\u001b[43mstart_token\u001b[49m\u001b[43m,\u001b[49m\u001b[43m \u001b[49m\u001b[43meos_idx\u001b[49m\u001b[43m,\u001b[49m\u001b[43m \u001b[49m\u001b[43mtop_k\u001b[49m\u001b[43m=\u001b[49m\u001b[32;43m50\u001b[39;49m\u001b[43m,\u001b[49m\u001b[43m \u001b[49m\u001b[43mtemperature\u001b[49m\u001b[43m=\u001b[49m\u001b[32;43m0.8\u001b[39;49m\u001b[43m)\u001b[49m\n\u001b[32m     28\u001b[39m smi  = detokenize(toks[\u001b[32m0\u001b[39m])\n\u001b[32m     29\u001b[39m \u001b[38;5;28;01mif\u001b[39;00m is_valid(smi): valid += \u001b[32m1\u001b[39m\n",
      "\u001b[36mFile \u001b[39m\u001b[32m/homeRepo/meconcelli/CACCA/src/model/CAE.py:232\u001b[39m, in \u001b[36mConditionalAutoencoder.sample\u001b[39m\u001b[34m(self, latent_vector, c, start_token, seq_length, eos_idx, greedy, top_k, top_p, pad_idx, temperature, device)\u001b[39m\n\u001b[32m    228\u001b[39m \u001b[38;5;250m\u001b[39m\u001b[33;03m\"\"\"\u001b[39;00m\n\u001b[32m    229\u001b[39m \u001b[33;03mRitorna LongTensor (B, T) con token generati fino a E o padding finale.\u001b[39;00m\n\u001b[32m    230\u001b[39m \u001b[33;03m\"\"\"\u001b[39;00m\n\u001b[32m    231\u001b[39m B = latent_vector.size(\u001b[32m0\u001b[39m)\n\u001b[32m--> \u001b[39m\u001b[32m232\u001b[39m x = \u001b[43mstart_token\u001b[49m\u001b[43m.\u001b[49m\u001b[43mto\u001b[49m(device)  \u001b[38;5;66;03m# (B, 1)\u001b[39;00m\n\u001b[32m    233\u001b[39m hidden = \u001b[38;5;28;01mNone\u001b[39;00m\n\u001b[32m    234\u001b[39m generated = []\n",
      "\u001b[31mAttributeError\u001b[39m: 'str' object has no attribute 'to'"
     ]
    }
   ],
   "source": [
    "from rdkit import Chem\n",
    "def is_valid(smi): return Chem.MolFromSmiles(smi) is not None\n",
    "\n",
    "N = 1000\n",
    "valid, uniq = 0, set()\n",
    "print(vocab)\n",
    "start_token = \"X\"\n",
    "eos_idx = \"E\"\n",
    "\n",
    "def detokenize(token_indices):\n",
    "    # token_indices: list or tensor of token indices\n",
    "    # Convert indices to tokens using vocab (reverse mapping)\n",
    "    idx_to_token = {v: k for k, v in vocab.items()}\n",
    "    if hasattr(token_indices, 'tolist'):\n",
    "        token_indices = token_indices.tolist()\n",
    "    tokens = [idx_to_token[idx] for idx in token_indices if idx in idx_to_token]\n",
    "    # Remove start_token and everything after eos_idx\n",
    "    if start_token in tokens:\n",
    "        tokens = tokens[tokens.index(start_token)+1:]\n",
    "    if eos_idx in tokens:\n",
    "        tokens = tokens[:tokens.index(eos_idx)]\n",
    "    return ''.join(tokens)\n",
    "\n",
    "for _ in range(N):\n",
    "    z = torch.randn(1, model.latent_size).to(device)\n",
    "    c = torch.zeros(1, model.num_prop).to(device)       \n",
    "    toks = model.sample(z, c, start_token, eos_idx, top_k=50, temperature=0.8)\n",
    "    smi  = detokenize(toks[0])\n",
    "    if is_valid(smi): valid += 1\n",
    "    uniq.add(smi)\n",
    "print(f\"Validity {valid/N:.3f},  Uniqueness {len(uniq)/valid if valid else 0:.3f}\")"
   ]
  },
  {
   "cell_type": "code",
   "execution_count": 44,
   "id": "61902178",
   "metadata": {},
   "outputs": [
    {
     "name": "stdout",
     "output_type": "stream",
     "text": [
      "(32, 5)\n",
      "ExactMW 1.0\n",
      "LogP 1.0\n",
      "NumHBD 1.0\n",
      "NumHBA 1.0\n",
      "TPSA 1.0\n"
     ]
    }
   ],
   "source": [
    "import numpy as np, sklearn                        # (N, d)\n",
    "props = c.cpu().numpy()              \n",
    "print(props.shape)# (N, 5)\n",
    "for j, name in enumerate([\"ExactMW\", \"LogP\", \"NumHBD\", \"NumHBA\", \"TPSA\"]):\n",
    "    r2 = sklearn.linear_model.LinearRegression().fit(Z, props[:,j]).score(Z, props[:,j])\n",
    "    print(name, r2)\n",
    "    \n",
    "\n",
    "    \n",
    "# Se vedi R² > 0.9 per (quasi) tutti i j significa che z ≈ funzione lineare delle proprietà → povera di informazione strutturale."
   ]
  },
  {
   "cell_type": "code",
   "execution_count": 45,
   "id": "36f163f8",
   "metadata": {},
   "outputs": [
    {
     "name": "stdout",
     "output_type": "stream",
     "text": [
      "Spearman ρ = 0.408  (p = 2.53e-21)\n"
     ]
    },
    {
     "name": "stderr",
     "output_type": "stream",
     "text": [
      "[18:59:12] DEPRECATION WARNING: please use MorganGenerator\n",
      "[18:59:12] DEPRECATION WARNING: please use MorganGenerator\n",
      "[18:59:12] DEPRECATION WARNING: please use MorganGenerator\n",
      "[18:59:12] DEPRECATION WARNING: please use MorganGenerator\n",
      "[18:59:12] DEPRECATION WARNING: please use MorganGenerator\n",
      "[18:59:12] DEPRECATION WARNING: please use MorganGenerator\n",
      "[18:59:12] DEPRECATION WARNING: please use MorganGenerator\n",
      "[18:59:12] DEPRECATION WARNING: please use MorganGenerator\n",
      "[18:59:12] DEPRECATION WARNING: please use MorganGenerator\n",
      "[18:59:12] DEPRECATION WARNING: please use MorganGenerator\n",
      "[18:59:12] DEPRECATION WARNING: please use MorganGenerator\n",
      "[18:59:12] DEPRECATION WARNING: please use MorganGenerator\n",
      "[18:59:12] DEPRECATION WARNING: please use MorganGenerator\n",
      "[18:59:12] DEPRECATION WARNING: please use MorganGenerator\n",
      "[18:59:12] DEPRECATION WARNING: please use MorganGenerator\n",
      "[18:59:12] DEPRECATION WARNING: please use MorganGenerator\n",
      "[18:59:12] DEPRECATION WARNING: please use MorganGenerator\n",
      "[18:59:12] DEPRECATION WARNING: please use MorganGenerator\n",
      "[18:59:12] DEPRECATION WARNING: please use MorganGenerator\n",
      "[18:59:12] DEPRECATION WARNING: please use MorganGenerator\n",
      "[18:59:12] DEPRECATION WARNING: please use MorganGenerator\n",
      "[18:59:12] DEPRECATION WARNING: please use MorganGenerator\n",
      "[18:59:12] DEPRECATION WARNING: please use MorganGenerator\n",
      "[18:59:12] DEPRECATION WARNING: please use MorganGenerator\n",
      "[18:59:12] DEPRECATION WARNING: please use MorganGenerator\n",
      "[18:59:12] DEPRECATION WARNING: please use MorganGenerator\n",
      "[18:59:12] DEPRECATION WARNING: please use MorganGenerator\n",
      "[18:59:12] DEPRECATION WARNING: please use MorganGenerator\n",
      "[18:59:12] DEPRECATION WARNING: please use MorganGenerator\n",
      "[18:59:12] DEPRECATION WARNING: please use MorganGenerator\n",
      "[18:59:12] DEPRECATION WARNING: please use MorganGenerator\n",
      "[18:59:12] DEPRECATION WARNING: please use MorganGenerator\n"
     ]
    }
   ],
   "source": [
    "import numpy as np, torch, pandas as pd, rdkit\n",
    "from rdkit import Chem\n",
    "from rdkit.Chem import AllChem, DataStructs\n",
    "from sklearn.metrics import pairwise_distances\n",
    "from scipy.stats import spearmanr\n",
    "\n",
    "########################\n",
    "# 1. Input\n",
    "########################\n",
    "smiles_list = valid_smiles        # list/array of SMILES  (N,)\n",
    "\n",
    "# tensor/ndarray of shape (N, latent_dim)\n",
    "\n",
    "########################\n",
    "# 2. Fingerprints\n",
    "########################\n",
    "fps = [AllChem.GetMorganFingerprintAsBitVect(Chem.MolFromSmiles(smi), radius=2, nBits=2048)\n",
    "       for smi in smiles_list]\n",
    "\n",
    "# 3. Calcolo similarità con BulkTanimotoSimilarity\n",
    "import numpy as np\n",
    "N = len(fps)  # numero di molecole\n",
    "tan = np.zeros((N, N), dtype=np.float32)\n",
    "\n",
    "for i in range(N):\n",
    "    sims = DataStructs.BulkTanimotoSimilarity(fps[i], fps[:i])  # fps[:i] è una lista\n",
    "    tan[i, :i] = sims\n",
    "    tan[:i, i] = sims  # simmetria\n",
    "    \n",
    "########################\n",
    "# 3. Latent distances\n",
    "########################\n",
    "Z_np = np.asarray(Z, dtype=np.float32)\n",
    "d_lat = pairwise_distances(Z_np, metric=\"cosine\")   # (N,N)\n",
    "\n",
    "########################\n",
    "# 4. Spearman ρ\n",
    "########################\n",
    "# vector-ise upper-triangular part\n",
    "triu = np.triu_indices(N, k=1)\n",
    "rho, p = spearmanr(1 - tan[triu], d_lat[triu])      # 1-tan = distance\n",
    "\n",
    "print(f\"Spearman ρ = {rho:.3f}  (p = {p:.2e})\")"
   ]
  },
  {
   "cell_type": "code",
   "execution_count": 48,
   "id": "20346955",
   "metadata": {},
   "outputs": [
    {
     "name": "stdout",
     "output_type": "stream",
     "text": [
      "torch.Size([1, 200]) torch.Size([32, 200])\n",
      "0.000 POLYMER 0\n",
      "0.354 POLYMER 3\n",
      "0.433 Phthalic_acid\n",
      "1.000 POLYMER precrop\n",
      "1.042 Chrysene\n",
      "1.135 Nimesulide\n",
      "1.559 sertralina\n",
      "1.630 Aspirin\n",
      "1.644 fluoxetina\n",
      "1.654 paracetamolo\n",
      "1.721 Metoclopramide\n",
      "1.737 2-4-5-trichlorophenoxyacetic acid\n",
      "1.896 Diclofenac\n",
      "1.904 amoxicillina\n",
      "1.912 Heteroatoms\n",
      "1.912 carbamazepina\n",
      "1.916 Ibuprofen\n",
      "1.941 Dimethylurea\n",
      "1.961 Etoricoxib\n",
      "1.992 Indomethacin\n",
      "2.004 Pyramidone\n",
      "2.056 ciprofloxacina\n",
      "2.108 Oestradiol\n",
      "2.301 polistirene\n",
      "4.793 urea\n",
      "8.342 Benzene\n",
      "10.364 Cyclohexane\n",
      "11.866 Acetic acid\n",
      "11.866 acido acetico\n",
      "16.146 PVC\n",
      "47.740 Ethanol\n",
      "185.144 Polietilene\n"
     ]
    },
    {
     "name": "stderr",
     "output_type": "stream",
     "text": [
      "/tmp/ipykernel_994998/2865426704.py:2: UserWarning: To copy construct from a tensor, it is recommended to use sourceTensor.detach().clone() or sourceTensor.detach().clone().requires_grad_(True), rather than torch.tensor(sourceTensor).\n",
      "  c_poly = torch.tensor(c[-1]).unsqueeze(0).to(device)\n",
      "/tmp/ipykernel_994998/2865426704.py:3: UserWarning: To copy construct from a tensor, it is recommended to use sourceTensor.detach().clone() or sourceTensor.detach().clone().requires_grad_(True), rather than torch.tensor(sourceTensor).\n",
      "  l_poly = torch.tensor(l[-1]).unsqueeze(0).to(device)\n"
     ]
    }
   ],
   "source": [
    "# vettore delle proprietà normalizzate di POLYMER 2\n",
    "c_poly = torch.tensor(c[-1]).unsqueeze(0).to(device)  \n",
    "l_poly = torch.tensor(l[-1]).unsqueeze(0).to(device)  \n",
    "x_poly = x[-1].unsqueeze(0).to(device)  # shape (1, L)\n",
    "\n",
    "c_zero = torch.zeros_like(c)  # (1, num_prop)\n",
    "\n",
    "# ==> per tutte le piccole molecole passa SEMPRE c_poly\n",
    "Z_poly, Z_mols = [], []\n",
    "with torch.no_grad():\n",
    "    Z_poly = model(x_poly, c_poly,l_poly)[0]     # (1,d)\n",
    "    latent = model(x, c_poly.repeat(x.shape[0], 1), l)[0]\n",
    "                                          # (N,d)\n",
    "\n",
    "print(Z_poly.shape, latent.shape)\n",
    "\n",
    "d_new = torch.cdist(Z_poly.cpu(), latent.cpu()).squeeze(0).numpy()\n",
    "zzz = zip(d_new, names)\n",
    "d_new_, names_ = zip(*sorted(zzz, key=lambda x: x[0]))\n",
    "for i in range(len(d_new_)):\n",
    "    print(f\"{d_new_[i]:.3f} {names_[i]}\")"
   ]
  },
  {
   "cell_type": "markdown",
   "id": "bba23659",
   "metadata": {},
   "source": [
    "PORCO DIO!"
   ]
  }
 ],
 "metadata": {
  "kernelspec": {
   "display_name": "cacca_env",
   "language": "python",
   "name": "python3"
  },
  "language_info": {
   "codemirror_mode": {
    "name": "ipython",
    "version": 3
   },
   "file_extension": ".py",
   "mimetype": "text/x-python",
   "name": "python",
   "nbconvert_exporter": "python",
   "pygments_lexer": "ipython3",
   "version": "3.12.11"
  }
 },
 "nbformat": 4,
 "nbformat_minor": 5
}
